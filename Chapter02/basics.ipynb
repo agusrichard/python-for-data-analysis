{
 "cells": [
  {
   "cell_type": "markdown",
   "metadata": {},
   "source": [
    "# Python Language Basics, IPython, and Jupyter Notebooks"
   ]
  },
  {
   "cell_type": "markdown",
   "metadata": {},
   "source": [
    "- Running python file from command prompt:\n",
    "    - python file.py\n",
    "- Running python file from IPython:\n",
    "    - %run file.py\n",
    "- Introspection: Using (?) to display some genera information about the object.\n",
    "- We can use ? for searching the IPython namespace in a manner similar to standard unix. Ex: np.\\*load\\*?\n",
    "- IPython special commands = magic commands. Have prefix %.\n",
    "    - %timeit: Check the execution time.\n",
    "    - %pwd: print working directory\n",
    "- Everything is an object, python object. Each object has an associated object type and internal data.\n",
    "- Python is considered a strongly typed language, which means that every object has a spesific type (or class), and implicit conversions will occur only in certain obvious circumstances.\n",
    "- isinstance(object, type): will check whether the object is an instance of type class.\n",
    "- Duck typing: Often you may not care about the type of an object but rather only whether it has certain methods or behavior.\n",
    "- Standard Python scalar types:\n",
    "    - None: null value\n",
    "    - str: String\n",
    "    - bytes: raw ASCII bytes\n",
    "    - float: 64-bit floating point number\n",
    "    - bool: True or False value\n",
    "    - int: Arbitrary precision signed integer\n",
    "- String:\n",
    "    - string.replace('string in one', 'string in two') # make a copy\n",
    "    - raw: s = r'this\\has\\no\\special\\characters'\n",
    "    - String formatting:\n",
    "        - {0:.2f} means to format the first argument as a floating-point number with two decimal places.\n",
    "        - {1:s} means to format the second argument as a string.\n",
    "        - {2:d} means to format the third argument as an exact integer.\n",
    "- Bytes and Unicode:\n",
    "    - val = \"español\"\n",
    "    - val_utf8 = val.encode('utf-8')\n",
    "    - val_utf8.decode('utf-8')\n",
    "    - bytes_val = b'this is bytes'\n",
    "    - decoded = bytes_val.decode('utf8')\n",
    "- Dates and Times:\n",
    "    - from datetime import datetime, date, time\n",
    "    - dt = datetime(2011, 10, 29, 20, 30, 21)\n",
    "    - dt.day -> 29\n",
    "    - dt.strftime('%m/%d/%Y %H:%M')\n",
    "    - timedelta for durasion\n",
    "- Ternary expressions:\n",
    "    - value = true-exp if condition else false-exp"
   ]
  }
 ],
 "metadata": {
  "kernelspec": {
   "display_name": "Python 3",
   "language": "python",
   "name": "python3"
  },
  "language_info": {
   "codemirror_mode": {
    "name": "ipython",
    "version": 3
   },
   "file_extension": ".py",
   "mimetype": "text/x-python",
   "name": "python",
   "nbconvert_exporter": "python",
   "pygments_lexer": "ipython3",
   "version": "3.7.3"
  }
 },
 "nbformat": 4,
 "nbformat_minor": 2
}
