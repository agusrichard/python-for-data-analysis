{
 "cells": [
  {
   "cell_type": "markdown",
   "metadata": {},
   "source": [
    "# 11.2 Time Series Basics"
   ]
  },
  {
   "cell_type": "code",
   "execution_count": 1,
   "metadata": {},
   "outputs": [],
   "source": [
    "import numpy as np\n",
    "import pandas as pd"
   ]
  },
  {
   "cell_type": "code",
   "execution_count": 19,
   "metadata": {},
   "outputs": [],
   "source": [
    "from datetime import datetime\n",
    "from dateutil.parser import parse"
   ]
  },
  {
   "cell_type": "code",
   "execution_count": 3,
   "metadata": {},
   "outputs": [],
   "source": [
    "dates = [datetime(2011, 1, 2), datetime(2011, 1, 5),\n",
    "         datetime(2011, 1, 7), datetime(2011, 1, 8),\n",
    "         datetime(2011, 1, 10), datetime(2011, 1, 12)]"
   ]
  },
  {
   "cell_type": "code",
   "execution_count": 4,
   "metadata": {},
   "outputs": [],
   "source": [
    "ts = pd.Series(np.random.randn(6), index=dates)"
   ]
  },
  {
   "cell_type": "code",
   "execution_count": 5,
   "metadata": {},
   "outputs": [
    {
     "data": {
      "text/plain": [
       "2011-01-02   -0.226262\n",
       "2011-01-05   -2.048577\n",
       "2011-01-07   -0.721636\n",
       "2011-01-08   -1.105597\n",
       "2011-01-10    0.385116\n",
       "2011-01-12   -1.920210\n",
       "dtype: float64"
      ]
     },
     "execution_count": 5,
     "metadata": {},
     "output_type": "execute_result"
    }
   ],
   "source": [
    "ts"
   ]
  },
  {
   "cell_type": "code",
   "execution_count": 6,
   "metadata": {},
   "outputs": [
    {
     "data": {
      "text/plain": [
       "DatetimeIndex(['2011-01-02', '2011-01-05', '2011-01-07', '2011-01-08',\n",
       "               '2011-01-10', '2011-01-12'],\n",
       "              dtype='datetime64[ns]', freq=None)"
      ]
     },
     "execution_count": 6,
     "metadata": {},
     "output_type": "execute_result"
    }
   ],
   "source": [
    "ts.index"
   ]
  },
  {
   "cell_type": "markdown",
   "metadata": {},
   "source": [
    "datetime python object converted to DatetimeIndex by pandas"
   ]
  },
  {
   "cell_type": "code",
   "execution_count": 7,
   "metadata": {},
   "outputs": [
    {
     "data": {
      "text/plain": [
       "2011-01-02   -0.226262\n",
       "2011-01-07   -0.721636\n",
       "2011-01-10    0.385116\n",
       "dtype: float64"
      ]
     },
     "execution_count": 7,
     "metadata": {},
     "output_type": "execute_result"
    }
   ],
   "source": [
    "ts[::2]"
   ]
  },
  {
   "cell_type": "code",
   "execution_count": 8,
   "metadata": {},
   "outputs": [
    {
     "data": {
      "text/plain": [
       "2011-01-02   -0.452524\n",
       "2011-01-05         NaN\n",
       "2011-01-07   -1.443271\n",
       "2011-01-08         NaN\n",
       "2011-01-10    0.770232\n",
       "2011-01-12         NaN\n",
       "dtype: float64"
      ]
     },
     "execution_count": 8,
     "metadata": {},
     "output_type": "execute_result"
    }
   ],
   "source": [
    "ts + ts[::2]"
   ]
  },
  {
   "cell_type": "markdown",
   "metadata": {},
   "source": [
    "pandas stores timestamps using NumPy’s datetime64 data type at the nanosecond\n",
    "resolution:"
   ]
  },
  {
   "cell_type": "code",
   "execution_count": 9,
   "metadata": {},
   "outputs": [
    {
     "data": {
      "text/plain": [
       "dtype('<M8[ns]')"
      ]
     },
     "execution_count": 9,
     "metadata": {},
     "output_type": "execute_result"
    }
   ],
   "source": [
    "ts.index.dtype"
   ]
  },
  {
   "cell_type": "code",
   "execution_count": 10,
   "metadata": {},
   "outputs": [],
   "source": [
    "stamp = ts.index[0]"
   ]
  },
  {
   "cell_type": "code",
   "execution_count": 11,
   "metadata": {},
   "outputs": [
    {
     "data": {
      "text/plain": [
       "pandas._libs.tslibs.timestamps.Timestamp"
      ]
     },
     "execution_count": 11,
     "metadata": {},
     "output_type": "execute_result"
    }
   ],
   "source": [
    "type(stamp)"
   ]
  },
  {
   "cell_type": "markdown",
   "metadata": {},
   "source": [
    "---"
   ]
  },
  {
   "cell_type": "markdown",
   "metadata": {},
   "source": [
    "## Indexing, Selection, Subsetting"
   ]
  },
  {
   "cell_type": "code",
   "execution_count": 12,
   "metadata": {},
   "outputs": [],
   "source": [
    "stamp = ts.index[2]"
   ]
  },
  {
   "cell_type": "code",
   "execution_count": 13,
   "metadata": {},
   "outputs": [
    {
     "data": {
      "text/plain": [
       "-0.7216355841674548"
      ]
     },
     "execution_count": 13,
     "metadata": {},
     "output_type": "execute_result"
    }
   ],
   "source": [
    "ts[stamp]"
   ]
  },
  {
   "cell_type": "code",
   "execution_count": 15,
   "metadata": {},
   "outputs": [
    {
     "data": {
      "text/plain": [
       "2011-01-02   -0.226262\n",
       "2011-01-05   -2.048577\n",
       "2011-01-07   -0.721636\n",
       "2011-01-08   -1.105597\n",
       "2011-01-10    0.385116\n",
       "2011-01-12   -1.920210\n",
       "dtype: float64"
      ]
     },
     "execution_count": 15,
     "metadata": {},
     "output_type": "execute_result"
    }
   ],
   "source": [
    "ts"
   ]
  },
  {
   "cell_type": "code",
   "execution_count": 14,
   "metadata": {},
   "outputs": [
    {
     "data": {
      "text/plain": [
       "0.38511603805789724"
      ]
     },
     "execution_count": 14,
     "metadata": {},
     "output_type": "execute_result"
    }
   ],
   "source": [
    "ts['2011/01/10']"
   ]
  },
  {
   "cell_type": "code",
   "execution_count": 20,
   "metadata": {},
   "outputs": [
    {
     "data": {
      "text/plain": [
       "0.38511603805789724"
      ]
     },
     "execution_count": 20,
     "metadata": {},
     "output_type": "execute_result"
    }
   ],
   "source": [
    "ts[parse('10-01-2011', dayfirst=True)]"
   ]
  },
  {
   "cell_type": "code",
   "execution_count": 21,
   "metadata": {},
   "outputs": [
    {
     "data": {
      "text/plain": [
       "-1.9202095061658995"
      ]
     },
     "execution_count": 21,
     "metadata": {},
     "output_type": "execute_result"
    }
   ],
   "source": [
    "ts['20110112']"
   ]
  },
  {
   "cell_type": "code",
   "execution_count": 22,
   "metadata": {},
   "outputs": [],
   "source": [
    "longer_ts = pd.Series(np.random.randn(1000),\n",
    "                        index=pd.date_range('1/1/2000', periods=1000))"
   ]
  },
  {
   "cell_type": "code",
   "execution_count": 24,
   "metadata": {},
   "outputs": [
    {
     "data": {
      "text/plain": [
       "2000-01-01   -0.647442\n",
       "2000-01-02   -0.342988\n",
       "2000-01-03   -0.019620\n",
       "2000-01-04   -0.211389\n",
       "2000-01-05    3.137897\n",
       "2000-01-06    0.210815\n",
       "2000-01-07    0.386648\n",
       "2000-01-08    1.887725\n",
       "2000-01-09    1.539786\n",
       "2000-01-10    1.227079\n",
       "2000-01-11    0.515858\n",
       "2000-01-12    0.434509\n",
       "2000-01-13   -1.097498\n",
       "2000-01-14   -1.297935\n",
       "2000-01-15   -0.419094\n",
       "2000-01-16   -1.861774\n",
       "2000-01-17    0.696251\n",
       "2000-01-18    0.298913\n",
       "2000-01-19    0.646061\n",
       "2000-01-20   -0.491276\n",
       "2000-01-21    0.125297\n",
       "2000-01-22    1.814644\n",
       "2000-01-23   -1.014744\n",
       "2000-01-24    0.245845\n",
       "2000-01-25   -0.455885\n",
       "2000-01-26    1.048547\n",
       "2000-01-27   -1.317146\n",
       "2000-01-28   -0.742773\n",
       "2000-01-29   -0.739841\n",
       "2000-01-30   -0.694854\n",
       "                ...   \n",
       "2002-08-28   -0.232736\n",
       "2002-08-29    0.736941\n",
       "2002-08-30   -0.679742\n",
       "2002-08-31    0.693481\n",
       "2002-09-01    0.226348\n",
       "2002-09-02    1.286605\n",
       "2002-09-03    0.666196\n",
       "2002-09-04   -0.368043\n",
       "2002-09-05   -0.028760\n",
       "2002-09-06   -0.744505\n",
       "2002-09-07   -2.386162\n",
       "2002-09-08   -0.258297\n",
       "2002-09-09    2.123566\n",
       "2002-09-10   -0.725672\n",
       "2002-09-11    0.606892\n",
       "2002-09-12    1.184108\n",
       "2002-09-13    1.763509\n",
       "2002-09-14    2.322111\n",
       "2002-09-15   -1.058351\n",
       "2002-09-16    0.061562\n",
       "2002-09-17    0.429147\n",
       "2002-09-18   -1.419581\n",
       "2002-09-19    1.003573\n",
       "2002-09-20   -0.583845\n",
       "2002-09-21    1.127703\n",
       "2002-09-22    0.970684\n",
       "2002-09-23   -0.490914\n",
       "2002-09-24    0.090475\n",
       "2002-09-25   -0.540640\n",
       "2002-09-26   -0.901931\n",
       "Freq: D, Length: 1000, dtype: float64"
      ]
     },
     "execution_count": 24,
     "metadata": {},
     "output_type": "execute_result"
    }
   ],
   "source": [
    "longer_ts"
   ]
  },
  {
   "cell_type": "code",
   "execution_count": 25,
   "metadata": {},
   "outputs": [
    {
     "data": {
      "text/plain": [
       "2001-01-01   -0.166223\n",
       "2001-01-02   -0.779273\n",
       "2001-01-03    0.951479\n",
       "2001-01-04   -0.392310\n",
       "2001-01-05    0.066397\n",
       "2001-01-06   -1.636620\n",
       "2001-01-07   -1.350529\n",
       "2001-01-08   -0.986890\n",
       "2001-01-09   -0.247896\n",
       "2001-01-10    0.531758\n",
       "2001-01-11    0.418589\n",
       "2001-01-12   -0.551675\n",
       "2001-01-13    0.442603\n",
       "2001-01-14   -0.765293\n",
       "2001-01-15    0.549742\n",
       "2001-01-16    0.403222\n",
       "2001-01-17   -0.139437\n",
       "2001-01-18    0.502154\n",
       "2001-01-19   -0.626074\n",
       "2001-01-20    0.438115\n",
       "2001-01-21    0.472162\n",
       "2001-01-22   -0.256025\n",
       "2001-01-23   -2.026990\n",
       "2001-01-24    0.134497\n",
       "2001-01-25    0.005838\n",
       "2001-01-26   -0.514190\n",
       "2001-01-27    1.384563\n",
       "2001-01-28   -0.419552\n",
       "2001-01-29    1.099913\n",
       "2001-01-30   -0.273326\n",
       "                ...   \n",
       "2001-12-02   -0.576290\n",
       "2001-12-03    0.210283\n",
       "2001-12-04   -1.077395\n",
       "2001-12-05    0.432691\n",
       "2001-12-06   -0.209363\n",
       "2001-12-07    1.267818\n",
       "2001-12-08    0.318374\n",
       "2001-12-09    0.042674\n",
       "2001-12-10    0.506744\n",
       "2001-12-11    0.724687\n",
       "2001-12-12   -0.026336\n",
       "2001-12-13    1.596434\n",
       "2001-12-14    0.373517\n",
       "2001-12-15    0.542969\n",
       "2001-12-16    0.380331\n",
       "2001-12-17   -0.868099\n",
       "2001-12-18   -0.826928\n",
       "2001-12-19    0.066941\n",
       "2001-12-20   -0.061553\n",
       "2001-12-21    0.529957\n",
       "2001-12-22   -0.972690\n",
       "2001-12-23    0.884904\n",
       "2001-12-24   -1.547945\n",
       "2001-12-25   -0.423385\n",
       "2001-12-26    1.454761\n",
       "2001-12-27    0.495773\n",
       "2001-12-28    1.043869\n",
       "2001-12-29   -0.828474\n",
       "2001-12-30    0.123271\n",
       "2001-12-31    1.855447\n",
       "Freq: D, Length: 365, dtype: float64"
      ]
     },
     "execution_count": 25,
     "metadata": {},
     "output_type": "execute_result"
    }
   ],
   "source": [
    "longer_ts['2001']"
   ]
  },
  {
   "cell_type": "code",
   "execution_count": 28,
   "metadata": {},
   "outputs": [
    {
     "data": {
      "text/plain": [
       "2001-05-01    0.825068\n",
       "2001-05-02    0.905171\n",
       "2001-05-03   -0.612507\n",
       "2001-05-04   -0.103193\n",
       "2001-05-05    0.839367\n",
       "2001-05-06    0.241597\n",
       "2001-05-07   -0.454299\n",
       "2001-05-08   -2.372194\n",
       "2001-05-09    1.377407\n",
       "2001-05-10   -1.050256\n",
       "2001-05-11   -0.112823\n",
       "2001-05-12    0.003587\n",
       "2001-05-13    0.579757\n",
       "2001-05-14   -0.731214\n",
       "2001-05-15   -1.035623\n",
       "2001-05-16   -1.811076\n",
       "2001-05-17   -1.360513\n",
       "2001-05-18   -1.077102\n",
       "2001-05-19    0.421456\n",
       "2001-05-20   -0.680836\n",
       "2001-05-21   -1.647788\n",
       "2001-05-22    0.041544\n",
       "2001-05-23   -0.427474\n",
       "2001-05-24   -1.048395\n",
       "2001-05-25   -0.949260\n",
       "2001-05-26    0.375151\n",
       "2001-05-27   -0.886640\n",
       "2001-05-28    1.786223\n",
       "2001-05-29    1.553492\n",
       "2001-05-30   -0.472763\n",
       "2001-05-31    1.946703\n",
       "Freq: D, dtype: float64"
      ]
     },
     "execution_count": 28,
     "metadata": {},
     "output_type": "execute_result"
    }
   ],
   "source": [
    "longer_ts['2001-05']"
   ]
  },
  {
   "cell_type": "code",
   "execution_count": 30,
   "metadata": {},
   "outputs": [
    {
     "data": {
      "text/plain": [
       "2011-01-07   -0.721636\n",
       "2011-01-08   -1.105597\n",
       "2011-01-10    0.385116\n",
       "2011-01-12   -1.920210\n",
       "dtype: float64"
      ]
     },
     "execution_count": 30,
     "metadata": {},
     "output_type": "execute_result"
    }
   ],
   "source": [
    "ts[datetime(2011, 1, 7):]"
   ]
  },
  {
   "cell_type": "code",
   "execution_count": 34,
   "metadata": {},
   "outputs": [
    {
     "data": {
      "text/plain": [
       "2011-01-07   -0.721636\n",
       "2011-01-08   -1.105597\n",
       "2011-01-10    0.385116\n",
       "dtype: float64"
      ]
     },
     "execution_count": 34,
     "metadata": {},
     "output_type": "execute_result"
    }
   ],
   "source": [
    "ts['1/6/2011' : '1/11/2011']"
   ]
  },
  {
   "cell_type": "code",
   "execution_count": 35,
   "metadata": {},
   "outputs": [
    {
     "data": {
      "text/plain": [
       "2011-01-02   -0.226262\n",
       "2011-01-05   -2.048577\n",
       "2011-01-07   -0.721636\n",
       "2011-01-08   -1.105597\n",
       "2011-01-10    0.385116\n",
       "2011-01-12   -1.920210\n",
       "dtype: float64"
      ]
     },
     "execution_count": 35,
     "metadata": {},
     "output_type": "execute_result"
    }
   ],
   "source": [
    "ts"
   ]
  },
  {
   "cell_type": "code",
   "execution_count": 36,
   "metadata": {},
   "outputs": [
    {
     "data": {
      "text/plain": [
       "2011-01-02   -0.226262\n",
       "2011-01-05   -2.048577\n",
       "2011-01-07   -0.721636\n",
       "2011-01-08   -1.105597\n",
       "dtype: float64"
      ]
     },
     "execution_count": 36,
     "metadata": {},
     "output_type": "execute_result"
    }
   ],
   "source": [
    "# slice a Series between two dates\n",
    "ts.truncate(after='1/9/2011')"
   ]
  },
  {
   "cell_type": "code",
   "execution_count": 37,
   "metadata": {},
   "outputs": [],
   "source": [
    "dates = pd.date_range('1/1/2000', periods=100, freq='W-WED')"
   ]
  },
  {
   "cell_type": "code",
   "execution_count": 38,
   "metadata": {},
   "outputs": [
    {
     "data": {
      "text/plain": [
       "DatetimeIndex(['2000-01-05', '2000-01-12', '2000-01-19', '2000-01-26',\n",
       "               '2000-02-02', '2000-02-09', '2000-02-16', '2000-02-23',\n",
       "               '2000-03-01', '2000-03-08', '2000-03-15', '2000-03-22',\n",
       "               '2000-03-29', '2000-04-05', '2000-04-12', '2000-04-19',\n",
       "               '2000-04-26', '2000-05-03', '2000-05-10', '2000-05-17',\n",
       "               '2000-05-24', '2000-05-31', '2000-06-07', '2000-06-14',\n",
       "               '2000-06-21', '2000-06-28', '2000-07-05', '2000-07-12',\n",
       "               '2000-07-19', '2000-07-26', '2000-08-02', '2000-08-09',\n",
       "               '2000-08-16', '2000-08-23', '2000-08-30', '2000-09-06',\n",
       "               '2000-09-13', '2000-09-20', '2000-09-27', '2000-10-04',\n",
       "               '2000-10-11', '2000-10-18', '2000-10-25', '2000-11-01',\n",
       "               '2000-11-08', '2000-11-15', '2000-11-22', '2000-11-29',\n",
       "               '2000-12-06', '2000-12-13', '2000-12-20', '2000-12-27',\n",
       "               '2001-01-03', '2001-01-10', '2001-01-17', '2001-01-24',\n",
       "               '2001-01-31', '2001-02-07', '2001-02-14', '2001-02-21',\n",
       "               '2001-02-28', '2001-03-07', '2001-03-14', '2001-03-21',\n",
       "               '2001-03-28', '2001-04-04', '2001-04-11', '2001-04-18',\n",
       "               '2001-04-25', '2001-05-02', '2001-05-09', '2001-05-16',\n",
       "               '2001-05-23', '2001-05-30', '2001-06-06', '2001-06-13',\n",
       "               '2001-06-20', '2001-06-27', '2001-07-04', '2001-07-11',\n",
       "               '2001-07-18', '2001-07-25', '2001-08-01', '2001-08-08',\n",
       "               '2001-08-15', '2001-08-22', '2001-08-29', '2001-09-05',\n",
       "               '2001-09-12', '2001-09-19', '2001-09-26', '2001-10-03',\n",
       "               '2001-10-10', '2001-10-17', '2001-10-24', '2001-10-31',\n",
       "               '2001-11-07', '2001-11-14', '2001-11-21', '2001-11-28'],\n",
       "              dtype='datetime64[ns]', freq='W-WED')"
      ]
     },
     "execution_count": 38,
     "metadata": {},
     "output_type": "execute_result"
    }
   ],
   "source": [
    "dates"
   ]
  },
  {
   "cell_type": "code",
   "execution_count": 39,
   "metadata": {},
   "outputs": [],
   "source": [
    "long_df = pd.DataFrame(np.random.randn(100, 4),\n",
    "                        index=dates,\n",
    "                        columns=['Colorado', 'Texas', 'New York', 'Ohio'])"
   ]
  },
  {
   "cell_type": "code",
   "execution_count": 41,
   "metadata": {},
   "outputs": [
    {
     "data": {
      "text/html": [
       "<div>\n",
       "<style scoped>\n",
       "    .dataframe tbody tr th:only-of-type {\n",
       "        vertical-align: middle;\n",
       "    }\n",
       "\n",
       "    .dataframe tbody tr th {\n",
       "        vertical-align: top;\n",
       "    }\n",
       "\n",
       "    .dataframe thead th {\n",
       "        text-align: right;\n",
       "    }\n",
       "</style>\n",
       "<table border=\"1\" class=\"dataframe\">\n",
       "  <thead>\n",
       "    <tr style=\"text-align: right;\">\n",
       "      <th></th>\n",
       "      <th>Colorado</th>\n",
       "      <th>Texas</th>\n",
       "      <th>New York</th>\n",
       "      <th>Ohio</th>\n",
       "    </tr>\n",
       "  </thead>\n",
       "  <tbody>\n",
       "    <tr>\n",
       "      <th>2000-01-05</th>\n",
       "      <td>-0.190443</td>\n",
       "      <td>0.645019</td>\n",
       "      <td>-0.284895</td>\n",
       "      <td>-0.310348</td>\n",
       "    </tr>\n",
       "    <tr>\n",
       "      <th>2000-01-12</th>\n",
       "      <td>0.131020</td>\n",
       "      <td>0.196945</td>\n",
       "      <td>-1.202963</td>\n",
       "      <td>1.061737</td>\n",
       "    </tr>\n",
       "    <tr>\n",
       "      <th>2000-01-19</th>\n",
       "      <td>-0.131365</td>\n",
       "      <td>-0.908875</td>\n",
       "      <td>0.885509</td>\n",
       "      <td>0.059162</td>\n",
       "    </tr>\n",
       "    <tr>\n",
       "      <th>2000-01-26</th>\n",
       "      <td>1.216631</td>\n",
       "      <td>0.314039</td>\n",
       "      <td>2.245693</td>\n",
       "      <td>1.168400</td>\n",
       "    </tr>\n",
       "    <tr>\n",
       "      <th>2000-02-02</th>\n",
       "      <td>-1.112162</td>\n",
       "      <td>-0.458190</td>\n",
       "      <td>-0.638686</td>\n",
       "      <td>1.084453</td>\n",
       "    </tr>\n",
       "  </tbody>\n",
       "</table>\n",
       "</div>"
      ],
      "text/plain": [
       "            Colorado     Texas  New York      Ohio\n",
       "2000-01-05 -0.190443  0.645019 -0.284895 -0.310348\n",
       "2000-01-12  0.131020  0.196945 -1.202963  1.061737\n",
       "2000-01-19 -0.131365 -0.908875  0.885509  0.059162\n",
       "2000-01-26  1.216631  0.314039  2.245693  1.168400\n",
       "2000-02-02 -1.112162 -0.458190 -0.638686  1.084453"
      ]
     },
     "execution_count": 41,
     "metadata": {},
     "output_type": "execute_result"
    }
   ],
   "source": [
    "long_df.head()"
   ]
  },
  {
   "cell_type": "code",
   "execution_count": 43,
   "metadata": {},
   "outputs": [
    {
     "data": {
      "text/html": [
       "<div>\n",
       "<style scoped>\n",
       "    .dataframe tbody tr th:only-of-type {\n",
       "        vertical-align: middle;\n",
       "    }\n",
       "\n",
       "    .dataframe tbody tr th {\n",
       "        vertical-align: top;\n",
       "    }\n",
       "\n",
       "    .dataframe thead th {\n",
       "        text-align: right;\n",
       "    }\n",
       "</style>\n",
       "<table border=\"1\" class=\"dataframe\">\n",
       "  <thead>\n",
       "    <tr style=\"text-align: right;\">\n",
       "      <th></th>\n",
       "      <th>Colorado</th>\n",
       "      <th>Texas</th>\n",
       "      <th>New York</th>\n",
       "      <th>Ohio</th>\n",
       "    </tr>\n",
       "  </thead>\n",
       "  <tbody>\n",
       "    <tr>\n",
       "      <th>2001-05-02</th>\n",
       "      <td>1.130031</td>\n",
       "      <td>-0.197841</td>\n",
       "      <td>-0.880763</td>\n",
       "      <td>-1.154002</td>\n",
       "    </tr>\n",
       "    <tr>\n",
       "      <th>2001-05-09</th>\n",
       "      <td>-0.911401</td>\n",
       "      <td>1.291883</td>\n",
       "      <td>-2.137260</td>\n",
       "      <td>-0.233822</td>\n",
       "    </tr>\n",
       "    <tr>\n",
       "      <th>2001-05-16</th>\n",
       "      <td>0.150615</td>\n",
       "      <td>-0.054599</td>\n",
       "      <td>1.716405</td>\n",
       "      <td>0.317054</td>\n",
       "    </tr>\n",
       "    <tr>\n",
       "      <th>2001-05-23</th>\n",
       "      <td>-0.873239</td>\n",
       "      <td>0.361773</td>\n",
       "      <td>0.288937</td>\n",
       "      <td>0.761237</td>\n",
       "    </tr>\n",
       "    <tr>\n",
       "      <th>2001-05-30</th>\n",
       "      <td>1.615144</td>\n",
       "      <td>0.415485</td>\n",
       "      <td>-0.988144</td>\n",
       "      <td>-0.956368</td>\n",
       "    </tr>\n",
       "  </tbody>\n",
       "</table>\n",
       "</div>"
      ],
      "text/plain": [
       "            Colorado     Texas  New York      Ohio\n",
       "2001-05-02  1.130031 -0.197841 -0.880763 -1.154002\n",
       "2001-05-09 -0.911401  1.291883 -2.137260 -0.233822\n",
       "2001-05-16  0.150615 -0.054599  1.716405  0.317054\n",
       "2001-05-23 -0.873239  0.361773  0.288937  0.761237\n",
       "2001-05-30  1.615144  0.415485 -0.988144 -0.956368"
      ]
     },
     "execution_count": 43,
     "metadata": {},
     "output_type": "execute_result"
    }
   ],
   "source": [
    "long_df.loc['2001-05']"
   ]
  },
  {
   "cell_type": "markdown",
   "metadata": {},
   "source": [
    "---"
   ]
  },
  {
   "cell_type": "markdown",
   "metadata": {},
   "source": [
    "## Time Series with Duplicate Indices"
   ]
  },
  {
   "cell_type": "code",
   "execution_count": 44,
   "metadata": {},
   "outputs": [],
   "source": [
    "dates = pd.DatetimeIndex(['1/1/2000', '1/2/2000', '1/2/2000',\n",
    "                            '1/2/2000', '1/3/2000'])"
   ]
  },
  {
   "cell_type": "code",
   "execution_count": 45,
   "metadata": {},
   "outputs": [],
   "source": [
    "dup_ts = pd.Series(np.arange(5), index=dates)"
   ]
  },
  {
   "cell_type": "code",
   "execution_count": 46,
   "metadata": {},
   "outputs": [
    {
     "data": {
      "text/plain": [
       "2000-01-01    0\n",
       "2000-01-02    1\n",
       "2000-01-02    2\n",
       "2000-01-02    3\n",
       "2000-01-03    4\n",
       "dtype: int32"
      ]
     },
     "execution_count": 46,
     "metadata": {},
     "output_type": "execute_result"
    }
   ],
   "source": [
    "dup_ts"
   ]
  },
  {
   "cell_type": "code",
   "execution_count": 48,
   "metadata": {},
   "outputs": [
    {
     "data": {
      "text/plain": [
       "False"
      ]
     },
     "execution_count": 48,
     "metadata": {},
     "output_type": "execute_result"
    }
   ],
   "source": [
    "dup_ts.index.is_unique"
   ]
  },
  {
   "cell_type": "code",
   "execution_count": 49,
   "metadata": {},
   "outputs": [
    {
     "data": {
      "text/plain": [
       "0"
      ]
     },
     "execution_count": 49,
     "metadata": {},
     "output_type": "execute_result"
    }
   ],
   "source": [
    "dup_ts['2000-01-01']"
   ]
  },
  {
   "cell_type": "code",
   "execution_count": 50,
   "metadata": {},
   "outputs": [
    {
     "data": {
      "text/plain": [
       "2000-01-02    1\n",
       "2000-01-02    2\n",
       "2000-01-02    3\n",
       "dtype: int32"
      ]
     },
     "execution_count": 50,
     "metadata": {},
     "output_type": "execute_result"
    }
   ],
   "source": [
    "dup_ts['2000-01-02']\n",
    "# duplicated"
   ]
  },
  {
   "cell_type": "code",
   "execution_count": 58,
   "metadata": {},
   "outputs": [],
   "source": [
    "grouped = dup_ts.groupby(level=0)"
   ]
  },
  {
   "cell_type": "code",
   "execution_count": 52,
   "metadata": {},
   "outputs": [
    {
     "data": {
      "text/plain": [
       "2000-01-01    0\n",
       "2000-01-02    2\n",
       "2000-01-03    4\n",
       "dtype: int32"
      ]
     },
     "execution_count": 52,
     "metadata": {},
     "output_type": "execute_result"
    }
   ],
   "source": [
    "grouped.mean()"
   ]
  },
  {
   "cell_type": "code",
   "execution_count": 60,
   "metadata": {},
   "outputs": [
    {
     "data": {
      "text/plain": [
       "2000-01-01    1\n",
       "2000-01-02    3\n",
       "2000-01-03    1\n",
       "dtype: int64"
      ]
     },
     "execution_count": 60,
     "metadata": {},
     "output_type": "execute_result"
    }
   ],
   "source": [
    "grouped.count()"
   ]
  }
 ],
 "metadata": {
  "kernelspec": {
   "display_name": "Python 3",
   "language": "python",
   "name": "python3"
  },
  "language_info": {
   "codemirror_mode": {
    "name": "ipython",
    "version": 3
   },
   "file_extension": ".py",
   "mimetype": "text/x-python",
   "name": "python",
   "nbconvert_exporter": "python",
   "pygments_lexer": "ipython3",
   "version": "3.7.3"
  }
 },
 "nbformat": 4,
 "nbformat_minor": 2
}
