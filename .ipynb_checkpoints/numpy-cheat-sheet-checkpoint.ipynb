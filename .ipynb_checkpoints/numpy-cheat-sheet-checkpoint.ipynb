{
 "cells": [
  {
   "cell_type": "markdown",
   "metadata": {},
   "source": [
    "# The NumPy Cheat Sheet"
   ]
  },
  {
   "cell_type": "markdown",
   "metadata": {},
   "source": [
    "## 1. Array creation:\n",
    "    - np.array(array-like): ex, np.array(list)\n",
    "    - np.zeros(size): return array with zeros value\n",
    "    - np.ones(size): return array with ones value\n",
    "    - np.eye(n): return nxn identity matrix\n",
    "    - np.empty(size): return array with initializing its values\n",
    "    - np.full(fill_value): return array with fill value\n",
    "    - np.arange(start, stop, step): return array with specified parameters\n",
    "    - np.linspace(start, stop, number): return array with specified partitions\n",
    "    - Random number generations:\n",
    "        - np.random.randn(size=...): standard normal\n",
    "        - np.random.RandomState(seed=...): return random number generator\n",
    "        - np.random.random(): random number between 0 and 1\n",
    "        - np.random.randint(int1, int2, size): random integer\n",
    "        - np.random.normal: return random number normally distributed\n",
    "    - Attributes:\n",
    "        - shape: return number of data in each dimension\n",
    "        - dtype: data type, meta data object\n",
    "        - ndim: number of dimensions\n",
    "        - size\n",
    "    - Data type conversion:\n",
    "        - new = old.astype(data_type)"
   ]
  },
  {
   "cell_type": "markdown",
   "metadata": {},
   "source": [
    "## 2. Instance Methods:\n",
    "    - Math & Stat:\n",
    "        - aggregation (can specified axis):\n",
    "            - mean\n",
    "            - median\n",
    "            - mode\n",
    "            - sum\n",
    "            - std\n",
    "            - argmin: return index of minimum value\n",
    "            - argmax: return index of maximum value\n",
    "        - cumsum: return intermediate array as cummulative sum\n",
    "        - cumprod: return intermediate array as cummulative product\n",
    "    - boolean:\n",
    "         - any: return True if there are True values in an array\n",
    "         - all: return True if all values are True\n",
    "    - sort: return sorted array, ex: arr.sort(axis)\n"
   ]
  },
  {
   "cell_type": "markdown",
   "metadata": {},
   "source": [
    "## 3. Universal Functions:\n",
    "    - Common:\n",
    "        - log\n",
    "        - exp\n",
    "        - sqrt\n",
    "        - sin, cos, tan\n",
    "        - maximum: return array with element-wise maximum of the elements\n",
    "    - Linear algebra (from numpy.linalg):\n",
    "        - dot: euclidean inner product of two matrices or vectors\n",
    "        - det: determinant\n",
    "        - trace: trace\n",
    "        - eig: eigen values and eigen vectors\n",
    "        - inv: inverse\n",
    "        - qr: QR decomposition\n",
    "        - svd: singular value decomposition\n",
    "        - solve: solve linear system Ax=b\n",
    "    - NaN:\n",
    "         - isnan: return boolean array indicating NaN\n",
    "         - notnan: return the oposite of isnan\n",
    "    - Set operations:\n",
    "        - unique(x): compute the sorted unique elements in x\n",
    "        - intersect1d(x, y): Compute the sorted, common elements in x and y\n",
    "        - union1d(x, y): Compute the sorted union of elements\n",
    "        - in1d(x, y): Compute a boolean array indicating whether each element of x is contained in y\n",
    "        - setdiff1d(x, y): Set difference, elements in x that are not in y\n",
    "        - setxor1d(x, y): Set symmetric differences; elements that are in either of the arrays, but not both\n",
    "    - modf: return tuple remainder, whole\n",
    "    - sign: compute the sign of each element\n",
    "    - rint: round to nearest integer\n",
    "    - meshgrid: takes 1D arrays and produces two 2D matrices corresponding to all pairs of (x, y)\n",
    "    - where(cond, x, y): return array with manipulated entries"
   ]
  },
  {
   "cell_type": "markdown",
   "metadata": {},
   "source": [
    "## 4. Data Acessing:\n",
    "    - Indexing: obj[2, 3]\n",
    "    - Slicing: obj[2:, 3:]\n",
    "    - Masking: obj[mask], with mask is a boolean array, obj[condition_resulting_booleans]\n",
    "    - Fancy Indexing: obj[:, [2, 3, 4]]"
   ]
  },
  {
   "cell_type": "markdown",
   "metadata": {},
   "source": [
    "## 5. Array reshaping:\n",
    "    - array.reshape()\n",
    "    - array[:, np.newaxis]: add new axis to second axis\n",
    "    - array.reshape(-1, 1): shape (n, 1)\n",
    "    - array.reshape(1, -1): shape (1, n)\n",
    "    - array.ravel(): return view of flatten matrix\n",
    "    - array.flatten(): return copy of flatten matrix\n",
    "    - swapaxes(tuple): tuple to specify which axes to swap\n",
    "    - transpose"
   ]
  },
  {
   "cell_type": "markdown",
   "metadata": {},
   "source": [
    "## 5. Numpy data types (common ones):\n",
    "    - int8 to int64\n",
    "    - float16 to float128 \n",
    "    - complex 64 to complex 256\n",
    "    - bool\n",
    "    - object\n",
    "    - string_: Fixed length ASCII string type. Ex, S10 when creating array of string with length 10\n",
    "    - unicode_ Fixed length Unicode type. Ex, U10"
   ]
  },
  {
   "cell_type": "markdown",
   "metadata": {},
   "source": [
    "## 6. File I/O (functions):\n",
    "    - save('file_name.npy', arr): save the data, default .npy\n",
    "    - savez('file_archive.npz', a=arr, b=arr): save multiple arrays in an uncompressed archive\n",
    "    - load: load the data\n",
    "    - savez_compressed: in compressed format"
   ]
  }
 ],
 "metadata": {
  "kernelspec": {
   "display_name": "Python 3",
   "language": "python",
   "name": "python3"
  },
  "language_info": {
   "codemirror_mode": {
    "name": "ipython",
    "version": 3
   },
   "file_extension": ".py",
   "mimetype": "text/x-python",
   "name": "python",
   "nbconvert_exporter": "python",
   "pygments_lexer": "ipython3",
   "version": "3.7.3"
  }
 },
 "nbformat": 4,
 "nbformat_minor": 2
}
