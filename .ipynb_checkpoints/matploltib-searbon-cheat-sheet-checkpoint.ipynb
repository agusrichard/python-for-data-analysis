{
 "cells": [
  {
   "cell_type": "markdown",
   "metadata": {},
   "source": [
    "# matplotlib Cheat Sheet"
   ]
  },
  {
   "cell_type": "markdown",
   "metadata": {},
   "source": [
    "## Essential Functions:\n",
    "- plt.figure: create figure, empty window\n",
    "    - Methods (for figure object):\n",
    "        - fig.add_subplot: add subplot to figure and returns AxesSubplot object\n",
    "        - fig.subplots_adjust (plt.subplots_adjust): add just the subplots padding\n",
    "            - hspace: controls the subplots padding in vertical axis (height)\n",
    "            - wspace: controls the subplots padding in horizontal axis (width)\n",
    "    - Parameters:\n",
    "        - figsize: the figure size\n",
    "        - frameon: True -> with frame\n",
    "        - edgecolor: edge color\n",
    "        - facecolor: face color\n",
    "- plt.subplots: create figure and subplot object, returns Figure and AxesSubplot\n",
    "    - Parameters :\n",
    "        - nrows: number of rows\n",
    "        - ncols: number of columns\n",
    "        - sharex: all subplots use the same x-axis ticks\n",
    "        - sharey: all subplots use the same y-axis ticks\n",
    "        - subplot_kw: dict of keywords to add_subplot\n",
    "        - **fig_kws: keywords to figure\n",
    "- AxesSubplot setting parameters:\n",
    "    - axes.set_xticks: speciying the ticks location\n",
    "    - axes.set_xticklabels: specifying the ticks labels\n",
    "        - rotation\n",
    "        - fontsize\n",
    "- plt.rc(component, parameters_of_the_component)\n",
    "        \n",
    "## Plotting Functions:\n",
    "- plt.plot (ax.plot): add plot to the AxesSubplot object\n",
    "    - Parameters:\n",
    "        - linestyle\n",
    "        - color: can use string or hexcode\n",
    "        - marker\n",
    "        - label\n",
    "        - drawstyle: 'steps-post' no interpolation"
   ]
  },
  {
   "cell_type": "markdown",
   "metadata": {},
   "source": [
    "---"
   ]
  },
  {
   "cell_type": "markdown",
   "metadata": {},
   "source": [
    "# seaborn Cheat Sheet"
   ]
  },
  {
   "cell_type": "markdown",
   "metadata": {},
   "source": [
    "## I. pandas\n",
    "1. Methods:\n",
    "    - pandas.plot.barh\n",
    "        - if dataframe, grouped bar plot is the default\n",
    "        - stacked: if True, stacked bar plot\n",
    "    - pandas.plot.bar\n",
    "        - if dataframe, grouped bar plot is the default\n",
    "        - stacked: if True, stacked bar plot\n",
    "    - pandas.plot.line\n",
    "    - pandas.plot.hist\n",
    "        - bins\n",
    "2. Parameters:\n",
    "    - ax\n",
    "    - color\n",
    "    - ...\n",
    "    \n",
    "## II. seaborn\n",
    "1. Methods:\n",
    "    - barplot:\n",
    "        - x: column in data as x\n",
    "        - y: column in data as y\n",
    "        - data: data\n",
    "        - hue: another column to make seperation\n",
    "    - regplot: creates a scatter plot and fit the regression line\n",
    "    - pairplot:  creates a pairplot\n",
    "        - data\n",
    "        - diag_kind\n",
    "        - plot_kws\n",
    "    - catplot (factorplot):\n",
    "        - x\n",
    "        - y\n",
    "        - hue\n",
    "        - row\n",
    "        - col\n",
    "        - kind\n",
    "        - data\n",
    "        "
   ]
  }
 ],
 "metadata": {
  "kernelspec": {
   "display_name": "Python 3",
   "language": "python",
   "name": "python3"
  },
  "language_info": {
   "codemirror_mode": {
    "name": "ipython",
    "version": 3
   },
   "file_extension": ".py",
   "mimetype": "text/x-python",
   "name": "python",
   "nbconvert_exporter": "python",
   "pygments_lexer": "ipython3",
   "version": "3.7.3"
  }
 },
 "nbformat": 4,
 "nbformat_minor": 2
}
