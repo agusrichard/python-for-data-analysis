{
 "cells": [
  {
   "cell_type": "markdown",
   "metadata": {},
   "source": [
    "# Preliminaries"
   ]
  },
  {
   "cell_type": "markdown",
   "metadata": {},
   "source": [
    "- We will learn about manipulating, processing, cleaning, and crunching data in python.\n",
    "- Python -> Scripting language.\n",
    "- As python is an interpreted programming language, python code will run substantially slower than code written in a compiled language like Java or C++.\n",
    "- The global interpreter lock (GIL), a mechanism that prevents the interpreter from executing more than one Python instruction at a time.\n",
    "- The Essential Python Libraries:\n",
    "    - NumPy\n",
    "    - pandas\n",
    "    - matplotlib\n",
    "    - IPython and Jupyter\n",
    "    - SciPy\n",
    "    - scikit-learn\n",
    "    - statsmodels"
   ]
  }
 ],
 "metadata": {
  "kernelspec": {
   "display_name": "Python 3",
   "language": "python",
   "name": "python3"
  },
  "language_info": {
   "codemirror_mode": {
    "name": "ipython",
    "version": 3
   },
   "file_extension": ".py",
   "mimetype": "text/x-python",
   "name": "python",
   "nbconvert_exporter": "python",
   "pygments_lexer": "ipython3",
   "version": "3.7.3"
  }
 },
 "nbformat": 4,
 "nbformat_minor": 2
}
